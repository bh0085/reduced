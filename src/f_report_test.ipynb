{
 "cells": [
  {
   "cell_type": "code",
   "execution_count": 69,
   "metadata": {},
   "outputs": [],
   "source": [
    "import os\n",
    "import pandas as pd\n",
    "import numpy as np\n",
    "from _config import REDUCED_LIB, SEQUENCING_INFO, OUT_PLACE\n",
    "import _config"
   ]
  },
  {
   "cell_type": "code",
   "execution_count": 70,
   "metadata": {},
   "outputs": [],
   "source": [
    "# Default params\n",
    "DEFAULT_INP_DIR = _config.OUT_PLACE + 'e_newgenotype_rev/'\n",
    "NAME = \"f_report_test\"  #util.get_fn(__file__)\n",
    "OUT_DIR = os.path.join(OUT_PLACE, NAME)"
   ]
  },
  {
   "cell_type": "code",
   "execution_count": 39,
   "metadata": {},
   "outputs": [],
   "source": [
    "answers =pd.concat( [v for v in SEQUENCING_INFO.Name.apply(lambda x:pd.read_csv(os.path.join(DEFAULT_INP_DIR, x+\"_genotypes_0.csv\"),index_col=0).assign(sample_name=x)).values],ignore_index=True)"
   ]
  },
  {
   "cell_type": "code",
   "execution_count": 66,
   "metadata": {},
   "outputs": [
    {
     "data": {
      "text/html": [
       "<div>\n",
       "<style scoped>\n",
       "    .dataframe tbody tr th:only-of-type {\n",
       "        vertical-align: middle;\n",
       "    }\n",
       "\n",
       "    .dataframe tbody tr th {\n",
       "        vertical-align: top;\n",
       "    }\n",
       "\n",
       "    .dataframe thead th {\n",
       "        text-align: right;\n",
       "    }\n",
       "</style>\n",
       "<table border=\"1\" class=\"dataframe\">\n",
       "  <thead>\n",
       "    <tr style=\"text-align: right;\">\n",
       "      <th>sample_name</th>\n",
       "      <th>D19-212015</th>\n",
       "      <th>D19-212016</th>\n",
       "      <th>D19-212017</th>\n",
       "      <th>D19-212018</th>\n",
       "      <th>D19-212019</th>\n",
       "    </tr>\n",
       "  </thead>\n",
       "  <tbody>\n",
       "    <tr>\n",
       "      <th>n_ins</th>\n",
       "      <td>3.0</td>\n",
       "      <td>5146.0</td>\n",
       "      <td>6642.0</td>\n",
       "      <td>397.0</td>\n",
       "      <td>15.0</td>\n",
       "    </tr>\n",
       "    <tr>\n",
       "      <th>n_del</th>\n",
       "      <td>8.0</td>\n",
       "      <td>13710.0</td>\n",
       "      <td>14602.0</td>\n",
       "      <td>1139.0</td>\n",
       "      <td>134.0</td>\n",
       "    </tr>\n",
       "    <tr>\n",
       "      <th>n_wildtype</th>\n",
       "      <td>40.0</td>\n",
       "      <td>52666.0</td>\n",
       "      <td>52064.0</td>\n",
       "      <td>5036.0</td>\n",
       "      <td>1322.0</td>\n",
       "    </tr>\n",
       "    <tr>\n",
       "      <th>n_other</th>\n",
       "      <td>1837478.0</td>\n",
       "      <td>1582099.0</td>\n",
       "      <td>1486615.0</td>\n",
       "      <td>1479917.0</td>\n",
       "      <td>1647035.0</td>\n",
       "    </tr>\n",
       "  </tbody>\n",
       "</table>\n",
       "</div>"
      ],
      "text/plain": [
       "sample_name  D19-212015  D19-212016  D19-212017  D19-212018  D19-212019\n",
       "n_ins               3.0      5146.0      6642.0       397.0        15.0\n",
       "n_del               8.0     13710.0     14602.0      1139.0       134.0\n",
       "n_wildtype         40.0     52666.0     52064.0      5036.0      1322.0\n",
       "n_other       1837478.0   1582099.0   1486615.0   1479917.0   1647035.0"
      ]
     },
     "execution_count": 66,
     "metadata": {},
     "output_type": "execute_result"
    }
   ],
   "source": [
    "answers[\"metacat\"] = answers.apply( lambda x: {\"wildtype\":\"wildtype\",\"del\":\"del\",\"ins\":\"ins\"}.get(x.Category,\"other\"),axis=1)\n",
    "nm = SEQUENCING_INFO.Name.iloc[-1]\n",
    "outcomes = answers.loc[answers.sample_name == nm]\n",
    "\n",
    "agg_results = pd.DataFrame()\n",
    "agg_results[\"n_ins\"] = answers.groupby([\"sample_name\"]).apply(lambda x:x.groupby(\"metacat\").get_group(\"ins\").Count.sum())\n",
    "agg_results[\"n_del\"] = answers.groupby([\"sample_name\"]).apply(lambda x:x.groupby(\"metacat\").get_group(\"del\").Count.sum())\n",
    "agg_results[\"n_wildtype\"] = answers.groupby([\"sample_name\"]).apply(lambda x:x.groupby(\"metacat\").get_group(\"wildtype\").Count.sum())\n",
    "agg_results[\"n_other\"] = answers.groupby([\"sample_name\"]).apply(lambda x:x.groupby(\"metacat\").get_group(\"other\").Count.sum())\n",
    "\n",
    "agg_results.T"
   ]
  },
  {
   "cell_type": "code",
   "execution_count": null,
   "metadata": {},
   "outputs": [],
   "source": [
    "agg_results= pd.to_csv(\"0602_reducedlibrary_\")"
   ]
  }
 ],
 "metadata": {
  "kernelspec": {
   "display_name": "py3",
   "language": "python",
   "name": "py3-test"
  },
  "language_info": {
   "codemirror_mode": {
    "name": "ipython",
    "version": 3
   },
   "file_extension": ".py",
   "mimetype": "text/x-python",
   "name": "python",
   "nbconvert_exporter": "python",
   "pygments_lexer": "ipython3",
   "version": "3.7.2"
  }
 },
 "nbformat": 4,
 "nbformat_minor": 2
}
