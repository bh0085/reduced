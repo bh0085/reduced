{
 "cells": [
  {
   "cell_type": "code",
   "execution_count": 4,
   "metadata": {},
   "outputs": [],
   "source": []
  },
  {
   "cell_type": "code",
   "execution_count": 120,
   "metadata": {},
   "outputs": [],
   "source": [
    "import pandas as pd\n",
    "import numpy as np\n",
    "import os, sys, re\n",
    "\n",
    "from _config import SEQUENCING_READS_META, REDUCED_LIB\n",
    "\n",
    "sequencing_info = pd.DataFrame()\n",
    "for nm,vals in sequencing_reads_meta.items():\n",
    "    #read sequencing maps and experimental design files\n",
    "    reads_place = vals[\"reads_place\"]\n",
    "    lib_file = vals[\"lib_file\"]\n",
    "    reads_files = os.listdir(reads_place)\n",
    "    #lib = pd.read_csv(lib_file,names=[\"Code\"])\n",
    "    info = pd.read_csv(lib_file) \n",
    "\n",
    "    #add metadata to sequencing info DF\n",
    "    info = pd.concat([info,\n",
    "                      info.apply(\n",
    "        lambda x:pd.Series( re.compile(\"(?P<Name>D[^\\s]+) : (?P<Description>[^()]*)\\((?P<Index>[^)]*)\\)\")\n",
    "                           .search(x[\"code\"]).groupdict()),axis=1)]\n",
    "                     ,axis=1)\n",
    "    info[\"nm\"] = nm\n",
    "    info[\"reads_place\"] = reads_place\n",
    "    reads_files =os.listdir(reads_place)\n",
    "    \n",
    "    info[\"reads_location\"] = info.Name.apply(\n",
    "        lambda x: [e for e in reads_files if x in e]).apply(\n",
    "            lambda x:os.path.join(reads_place,x[0]) if len(x)>0 \n",
    "        else None)\n",
    "    \n",
    "    #find fastq files using sequencing info DF\n",
    "    if False in set(pd.notna(info.reads_location)):\n",
    "        raise Exception(f\"missing reads data file for {nm}\")\n",
    "    info[\"fastq\"] = info.apply(lambda x:[fn for fn in os.listdir(x.reads_location) if ~(pd.isna(x.reads_location)) & ( fn[-5:]==\"fastq\")][0],axis=1)\n",
    "    info[\"fastq_path\"] = info[\"reads_location\"] +\"/\"+ info[\"fastq\"]\n",
    "    sequencing_info = sequencing_info.append(info)\n",
    "     \n",
    " "
   ]
  },
  {
   "cell_type": "code",
   "execution_count": 139,
   "metadata": {},
   "outputs": [],
   "source": [
    "def rc(s):\n",
    "    return \"\".join([{\"N\":\"N\",\"A\":\"T\",\"G\":\"C\",\"T\":\"A\",\"C\":\"G\"}[l] for l in s][::-1])"
   ]
  },
  {
   "cell_type": "code",
   "execution_count": 111,
   "metadata": {},
   "outputs": [],
   "source": [
    "from Bio import pairwise2"
   ]
  },
  {
   "cell_type": "code",
   "execution_count": 119,
   "metadata": {},
   "outputs": [
    {
     "name": "stdout",
     "output_type": "stream",
     "text": [
      "/cluster/bh0085/shortreads/190328Gif/D19-170003-3778L/190328Gif_D19-170003_NA_sequence.fastq\n",
      "660 bad reads of 2502 total\n",
      "/cluster/bh0085/shortreads/190328Gif/D19-170013-3778L/190328Gif_D19-170013_NA_sequence.fastq\n",
      "710 bad reads of 2501 total\n",
      "/cluster/bh0085/shortreads/190328Gif/D19-170023-3778L/190328Gif_D19-170023_NA_sequence.fastq\n",
      "412 bad reads of 2501 total\n",
      "/cluster/bh0085/shortreads/190328Gif/D19-170033-3778L/190328Gif_D19-170033_NA_sequence.fastq\n",
      "625 bad reads of 2501 total\n",
      "/cluster/bh0085/shortreads/190329Gif/D19-171012-3779L/190329Gif_D19-171012_NA_sequence.fastq\n",
      "628 bad reads of 2501 total\n",
      "/cluster/bh0085/shortreads/190329Gif/D19-171022-3779L/190329Gif_D19-171022_NA_sequence.fastq\n",
      "591 bad reads of 2501 total\n",
      "/cluster/bh0085/shortreads/190502Gif/D19-194008-3846G/190502Gif_D19-194008_2_sequence.fastq\n",
      "2776 bad reads of 2800 total\n",
      "/cluster/bh0085/shortreads/190502Gif/D19-194018-3846G/190502Gif_D19-194018_2_sequence.fastq\n",
      "2509 bad reads of 2541 total\n",
      "/cluster/bh0085/shortreads/190502Gif/D19-194028-3846G/190502Gif_D19-194028_1_sequence.fastq\n",
      "292 bad reads of 2501 total\n",
      "/cluster/bh0085/shortreads/190502Gif/D19-194038-3846G/190502Gif_D19-194038_1_sequence.fastq\n",
      "294 bad reads of 2501 total\n",
      "/cluster/bh0085/shortreads/190502Gif/D19-194048-3846G/190502Gif_D19-194048_2_sequence.fastq\n",
      "1926 bad reads of 2502 total\n",
      "/cluster/bh0085/shortreads/190502Gif/D19-194058-3846G/190502Gif_D19-194058_1_sequence.fastq\n",
      "270 bad reads of 2502 total\n",
      "/cluster/bh0085/shortreads/190502Gif/D19-194068-3846G/190502Gif_D19-194068_2_sequence.fastq\n",
      "2042 bad reads of 2501 total\n",
      "/cluster/bh0085/shortreads/190502Gif/D19-194078-3846G/190502Gif_D19-194078_2_sequence.fastq\n",
      "1943 bad reads of 2502 total\n",
      "/cluster/bh0085/shortreads/190502Gif/D19-194088-3846G/190502Gif_D19-194088_1_sequence.fastq\n",
      "423 bad reads of 2501 total\n"
     ]
    }
   ],
   "source": [
    "seqs = []\n",
    "for fpath in sequencing_info[\"fastq_path\"].iloc[::10]:\n",
    "    num_bad_q = 0\n",
    "    num_total = 0\n",
    "    \n",
    "    with open(fpath) as f:\n",
    "        for i,l in enumerate(f):\n",
    "            if i%4 == 0:\n",
    "                h1 = l.strip()\n",
    "                continue\n",
    "            if i%4 == 1:\n",
    "                r1 = l.strip()\n",
    "                continue\n",
    "            if i%4 == 3:\n",
    "                num_total+=1\n",
    "                qs = l.strip()\n",
    "                quals = [ord(s)-33 for s in qs]\n",
    "                if np.mean(quals) < 32:        \n",
    "                    num_bad_q += 1\n",
    "                    continue\n",
    "                #print( r1)\n",
    "                #print(np.mean(quals))\n",
    "                #print(REDUCED_LIB_DESIGN[\"Designed gRNA (NGG orientation, 19 or 20)\"].apply(lambda x : x[:10] in rc(r1)).nonzero())\n",
    "                seqs.append(r1)\n",
    "                if i > 10000: break\n",
    "\n",
    "    print(f\"{num_bad_q} bad reads of {num_total} total\")\n"
   ]
  },
  {
   "cell_type": "code",
   "execution_count": 148,
   "metadata": {},
   "outputs": [
    {
     "data": {
      "text/plain": [
       "76"
      ]
     },
     "execution_count": 148,
     "metadata": {},
     "output_type": "execute_result"
    }
   ],
   "source": [
    "len(\"TGTAGATGGAAAGGACGAAACACCGCTCATCTCGGAACCACGTGAGTTTAAGAGCTATGCTGGAAACAGCATAGCA\")"
   ]
  }
 ],
 "metadata": {
  "kernelspec": {
   "display_name": "py3",
   "language": "python",
   "name": "py3-test"
  },
  "language_info": {
   "codemirror_mode": {
    "name": "ipython",
    "version": 3
   },
   "file_extension": ".py",
   "mimetype": "text/x-python",
   "name": "python",
   "nbconvert_exporter": "python",
   "pygments_lexer": "ipython3",
   "version": "3.7.2"
  }
 },
 "nbformat": 4,
 "nbformat_minor": 2
}
